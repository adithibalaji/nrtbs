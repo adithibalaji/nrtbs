{
 "cells": [
  {
   "cell_type": "markdown",
   "metadata": {},
   "source": [
    "Interactive plot of the sparks lake fire mask using differnt dNBR thresholds"
   ]
  },
  {
   "cell_type": "code",
   "execution_count": 1,
   "metadata": {},
   "outputs": [],
   "source": [
    "from misc import exist, read_hdr, read_float, hdr_fn, read_binary\n",
    "import numpy as np\n",
    "import matplotlib.pyplot as plt\n",
    "import math\n",
    "import os\n",
    "from dNBR import dNBR, NBR\n",
    "from operator import add, sub\n",
    "import datetime\n",
    "from ipywidgets import interact, interactive, fixed, interact_manual\n",
    "import ipywidgets as widgets"
   ]
  },
  {
   "cell_type": "code",
   "execution_count": 2,
   "metadata": {},
   "outputs": [
    {
     "data": {
      "text/plain": [
       "<Figure size 600x600 with 0 Axes>"
      ]
     },
     "metadata": {},
     "output_type": "display_data"
    },
    {
     "data": {
      "application/vnd.jupyter.widget-view+json": {
       "model_id": "c99909aa709640e8a43141a708d62fec",
       "version_major": 2,
       "version_minor": 0
      },
      "text/plain": [
       "interactive(children=(FloatSlider(value=0.5, description='dNBR threshold', max=1.5, min=-1.0, step=0.05), Outp…"
      ]
     },
     "execution_count": 2,
     "metadata": {},
     "output_type": "execute_result"
    }
   ],
   "source": [
    "plt.figure(figsize=(6,6))\n",
    "start_file='S2B_MSIL1C_20210626T185919_N0300_R013_T10UFB_20210626T211041.bin'\n",
    "end_file='S2B_MSIL1C_20210907T190929_N0301_R056_T10UFB_20210907T224046.bin'\n",
    "\n",
    "vals = read_binary(f'{start_file}') \n",
    "width = vals[0]\n",
    "height = vals[1]\n",
    "dnbr = dNBR(f'{start_file}',f'{end_file}')\n",
    "def burnmask(threshold):\n",
    "    plt.imshow(dnbr >= threshold, cmap='grey')\n",
    "    \n",
    "\n",
    "threshold = widgets.FloatSlider(min=-1,max=1.5,step=0.05,description='dNBR threshold',value=0.5)\n",
    "widgets.interactive(burnmask, threshold=threshold)"
   ]
  }
 ],
 "metadata": {
  "kernelspec": {
   "display_name": "Python 3",
   "language": "python",
   "name": "python3"
  },
  "language_info": {
   "codemirror_mode": {
    "name": "ipython",
    "version": 3
   },
   "file_extension": ".py",
   "mimetype": "text/x-python",
   "name": "python",
   "nbconvert_exporter": "python",
   "pygments_lexer": "ipython3",
   "version": "3.10.0"
  }
 },
 "nbformat": 4,
 "nbformat_minor": 2
}
